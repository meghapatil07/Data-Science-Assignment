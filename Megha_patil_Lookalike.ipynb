{
 "cells": [
  {
   "cell_type": "markdown",
   "id": "882fcf40",
   "metadata": {},
   "source": [
    "# Task 2 : Lookalike Model"
   ]
  },
  {
   "cell_type": "code",
   "execution_count": 15,
   "id": "3eecfca5",
   "metadata": {},
   "outputs": [
    {
     "name": "stdout",
     "output_type": "stream",
     "text": [
      "Lookalike results successfully saved to 'Lookalike.csv'.\n"
     ]
    }
   ],
   "source": [
    "# Import Required Libraries\n",
    "import pandas as pd\n",
    "from sklearn.metrics.pairwise import cosine_similarity\n",
    "from sklearn.preprocessing import StandardScaler\n",
    "\n",
    "# Load Data\n",
    "# Assuming you have customer data and transactions data as CSV files\n",
    "customers = pd.read_csv(r\"C:/Users/ADMIN/Downloads/Customers.csv\")\n",
    "transactions = pd.read_csv(r\"C:/Users/ADMIN/Downloads/Transactions.csv\")\n",
    "\n",
    "# Data Preparation: Aggregate Transactions for Each Customer\n",
    "customer_features = transactions.groupby('CustomerID').agg({\n",
    "    'TotalValue': 'sum',  # Total value of transactions\n",
    "    'Quantity': 'sum'     # Total quantity of items purchased\n",
    "}).reset_index()\n",
    "\n",
    "# Merge Customer Features with Customer Demographics\n",
    "customer_profiles = pd.merge(customers, customer_features, on='CustomerID', how='inner')\n",
    "\n",
    "# Standardize Data\n",
    "scaler = StandardScaler()\n",
    "scaled_data = scaler.fit_transform(customer_profiles[['TotalValue', 'Quantity']])\n",
    "\n",
    "# Compute Cosine Similarity Matrix\n",
    "similarity_matrix = cosine_similarity(scaled_data)\n",
    "\n",
    "# Convert Similarity Matrix to DataFrame\n",
    "similarity_df = pd.DataFrame(\n",
    "    similarity_matrix,\n",
    "    index=customer_profiles['CustomerID'],\n",
    "    columns=customer_profiles['CustomerID']\n",
    ")\n",
    "\n",
    "# Identify Top 3 Lookalike Customers for Each Customer\n",
    "lookalike_results = {}\n",
    "for customer_id in customer_profiles['CustomerID']:\n",
    "    similar_customers = similarity_df[customer_id].sort_values(ascending=False).iloc[1:4]\n",
    "    lookalike_results[customer_id] = similar_customers.index.tolist()\n",
    "\n",
    "# Create DataFrame of Lookalike Results\n",
    "lookalike_df = pd.DataFrame.from_dict(\n",
    "    lookalike_results,\n",
    "    orient='index',\n",
    "    columns=['Lookalike1', 'Lookalike2', 'Lookalike3']\n",
    ")\n",
    "\n",
    "# Save Results to CSV\n",
    "lookalike_df.to_csv(\"Lookalike.csv\", index_label='CustomerID')\n",
    "print(\"Lookalike results successfully saved to 'Lookalike.csv'.\")\n"
   ]
  },
  {
   "cell_type": "code",
   "execution_count": 11,
   "id": "94060cb9",
   "metadata": {},
   "outputs": [],
   "source": []
  },
  {
   "cell_type": "code",
   "execution_count": 12,
   "id": "34cef77f",
   "metadata": {},
   "outputs": [],
   "source": []
  },
  {
   "cell_type": "code",
   "execution_count": null,
   "id": "2406519e",
   "metadata": {},
   "outputs": [],
   "source": []
  },
  {
   "cell_type": "code",
   "execution_count": null,
   "id": "3d2efa06",
   "metadata": {},
   "outputs": [],
   "source": []
  }
 ],
 "metadata": {
  "kernelspec": {
   "display_name": "Python 3 (ipykernel)",
   "language": "python",
   "name": "python3"
  },
  "language_info": {
   "codemirror_mode": {
    "name": "ipython",
    "version": 3
   },
   "file_extension": ".py",
   "mimetype": "text/x-python",
   "name": "python",
   "nbconvert_exporter": "python",
   "pygments_lexer": "ipython3",
   "version": "3.11.5"
  }
 },
 "nbformat": 4,
 "nbformat_minor": 5
}
